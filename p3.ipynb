{
 "cells": [
  {
   "cell_type": "code",
   "execution_count": null,
   "id": "ef581943",
   "metadata": {},
   "outputs": [
    {
     "name": "stdout",
     "output_type": "stream",
     "text": [
      "PIN Verified\n",
      "Withdraw Successful.Remaining balance: 2000\n"
     ]
    }
   ],
   "source": [
    "p=int(input(\"PIN:\"))#1234\n",
    "b=int(input(\"Enter Balance:\"))#5000\n",
    "w=int(input(\"Enter withdraw amount:\"))#3000\n",
    "if(p==1234):\n",
    "    print(\"PIN Verified\")\n",
    "    if(b>=w):\n",
    "        res=b-w\n",
    "        print(\"Withdraw Successful.Remaining balance:\",res)\n",
    "    else:\n",
    "        print(\"insufficiant balance\")\n",
    "else:\n",
    "    print(\"wrong pin\")"
   ]
  },
  {
   "cell_type": "code",
   "execution_count": 6,
   "id": "5f9e2987",
   "metadata": {},
   "outputs": [
    {
     "name": "stdout",
     "output_type": "stream",
     "text": [
      "Addition= 19\n",
      "Subtraction= 11\n",
      "Multiplication= 60\n",
      "Division= 3\n"
     ]
    }
   ],
   "source": [
    "fn=15\n",
    "sn=4\n",
    "add=fn+sn\n",
    "sub=fn-sn\n",
    "mul=fn*sn\n",
    "div=fn//sn\n",
    "print(\"Addition=\",add)\n",
    "print(\"Subtraction=\",sub)\n",
    "print(\"Multiplication=\",mul)\n",
    "print(\"Division=\",div)"
   ]
  },
  {
   "cell_type": "code",
   "execution_count": 7,
   "id": "598e9cd9",
   "metadata": {},
   "outputs": [
    {
     "name": "stdout",
     "output_type": "stream",
     "text": [
      "['Python Basics', 'AI Fundamentals', 'Machine Learning']\n"
     ]
    }
   ],
   "source": [
    "Books = [\"Python Basics\", \"Data Science\", \"AI Fundamentals\"]\n",
    "Books.append(\"Machine Learning\")\n",
    "Books.remove(\"Data Science\")\n",
    "print(Books)"
   ]
  },
  {
   "cell_type": "code",
   "execution_count": 8,
   "id": "7a4d8f30",
   "metadata": {},
   "outputs": [
    {
     "name": "stdout",
     "output_type": "stream",
     "text": [
      "310\n"
     ]
    }
   ],
   "source": [
    "i=[50,30,20]\n",
    "q=[2,5,3]\n",
    "total=i[0]*q[0]+i[1]*q[1]+i[2]*q[2]\n",
    "print(total)"
   ]
  },
  {
   "cell_type": "code",
   "execution_count": null,
   "id": "453451dc",
   "metadata": {},
   "outputs": [
    {
     "name": "stdout",
     "output_type": "stream",
     "text": [
      "Compound interest= 512.5\n",
      "Total Amount= 5512.5\n"
     ]
    }
   ],
   "source": [
    "p=int(input(\"principle:\"))#5000\n",
    "r=int(input(\"Rate:\"))#5\n",
    "t=int(input(\"time:\"))#2\n",
    "it=input(\"Interest Type:\")#Compound\n",
    "if it=='Simple':\n",
    "    res=(p*r*t)/100\n",
    "    print(\"Simple Interest=\",res)\n",
    "    ta=p+res\n",
    "    print(\"Total Amount=\",ta)\n",
    "elif it=='Compound':\n",
    "    res=p*((1+(r/100))**(t))-p\n",
    "    print(\"Compound interest=\",res)\n",
    "    ta=p+res\n",
    "    print(\"Total Amount=\",ta)\n",
    "else:\n",
    "    print(\"Invalid Type\")"
   ]
  },
  {
   "cell_type": "code",
   "execution_count": null,
   "id": "9219e162",
   "metadata": {},
   "outputs": [
    {
     "name": "stdout",
     "output_type": "stream",
     "text": [
      "Grade:\n",
      "A\n"
     ]
    }
   ],
   "source": [
    "m=int(input(\"Enter marks:\"))#85\n",
    "print(\"Grade:\")\n",
    "if(m>90):\n",
    "    print(\"A+\")\n",
    "elif(m<=90 and m>80):\n",
    "    print(\"A\")\n",
    "elif(m<=80 and m>70):\n",
    "    print(\"B\")\n",
    "elif(m<=70 and m>60):\n",
    "    print(\"C\")\n",
    "elif(m<60):\n",
    "    print(\"Fail\")"
   ]
  },
  {
   "cell_type": "code",
   "execution_count": null,
   "id": "ac2a896c",
   "metadata": {},
   "outputs": [
    {
     "name": "stdout",
     "output_type": "stream",
     "text": [
      "Highest marks: 90\n",
      "lowest marks: 45\n",
      "Average 71.4\n"
     ]
    }
   ],
   "source": [
    "M=[45, 78, 88, 56, 90]\n",
    "high=max(M)\n",
    "low=min(M)\n",
    "avg=sum(M)/len(M)\n",
    "print(\"Highest marks:\",high)\n",
    "print(\"lowest marks:\",low)\n",
    "print(\"Average:\",avg)"
   ]
  },
  {
   "cell_type": "code",
   "execution_count": 16,
   "id": "2f4f1fec",
   "metadata": {},
   "outputs": [
    {
     "name": "stdout",
     "output_type": "stream",
     "text": [
      "new capital k1: 10900.0\n",
      "Capital for  3  years:\n",
      "30900.0\n",
      "95481.0\n",
      "295036.29\n"
     ]
    }
   ],
   "source": [
    "k0=10000\n",
    "r=9\n",
    "k1=k0*(1+r/100)\n",
    "print(\"new capital k1:\",k1)\n",
    "\n",
    "n=3\n",
    "y=1\n",
    "kn=k0\n",
    "print(\"Capital for \",n,\" years:\")\n",
    "while(y<=n):\n",
    "    kn=kn*(n+r/100)\n",
    "    print(kn)\n",
    "    y+=1 "
   ]
  },
  {
   "cell_type": "code",
   "execution_count": null,
   "id": "ef616fd7",
   "metadata": {},
   "outputs": [
    {
     "name": "stdout",
     "output_type": "stream",
     "text": [
      "9123456780\n",
      "Phone number of  Ravi  : 9123456780\n"
     ]
    }
   ],
   "source": [
    "Phonebook = {\"Suhel\": 9876543210, \"Ravi\": 9123456780, \"Anita\": 9988776655}\n",
    "name=input(\"Enter name:\")#Ravi\n",
    "if name in Phonebook:\n",
    "    print(Phonebook[\"Ravi\"])\n",
    "    print(\"Phone number of \",name,\" :\",Phonebook[name])\n",
    "else:\n",
    "    print(\" not the correct name\")"
   ]
  }
 ],
 "metadata": {
  "kernelspec": {
   "display_name": "Python 3",
   "language": "python",
   "name": "python3"
  },
  "language_info": {
   "codemirror_mode": {
    "name": "ipython",
    "version": 3
   },
   "file_extension": ".py",
   "mimetype": "text/x-python",
   "name": "python",
   "nbconvert_exporter": "python",
   "pygments_lexer": "ipython3",
   "version": "3.11.0"
  }
 },
 "nbformat": 4,
 "nbformat_minor": 5
}
