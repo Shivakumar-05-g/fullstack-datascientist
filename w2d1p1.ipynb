{
 "cells": [
  {
   "cell_type": "code",
   "execution_count": 10,
   "id": "479e32e1",
   "metadata": {},
   "outputs": [
    {
     "name": "stdout",
     "output_type": "stream",
     "text": [
      "[5, 7, 9, 11, 11, 13, 13, 15, 17, 17, 17, 19, 19, 19]\n"
     ]
    }
   ],
   "source": [
    "def prime(n):\n",
    "    p=[]\n",
    "    for n in range(2,n+1):\n",
    "        for i in range(2,int(n**0.5)+1):\n",
    "            if n%i==0:\n",
    "                break\n",
    "            else:\n",
    "                p.append(n)\n",
    "    return p\n",
    "\n",
    "print(prime(20))\n",
    "        "
   ]
  },
  {
   "cell_type": "code",
   "execution_count": 24,
   "id": "f12eb5a3",
   "metadata": {},
   "outputs": [
    {
     "name": "stdout",
     "output_type": "stream",
     "text": [
      "True\n"
     ]
    }
   ],
   "source": [
    "def palindrome(s):\n",
    "    s = s.replace(\" \", \"\").lower()\n",
    "    if s==s[::-1]:\n",
    "        return True\n",
    "    else:\n",
    "        return False\n",
    "      \n",
    "print(palindrome(\"Never odd or even\"))"
   ]
  },
  {
   "cell_type": "code",
   "execution_count": 2,
   "id": "e8d28e65",
   "metadata": {},
   "outputs": [
    {
     "name": "stdout",
     "output_type": "stream",
     "text": [
      "True\n"
     ]
    }
   ],
   "source": [
    "def anagramChecker(a,b):\n",
    "    if sorted(a)==sorted(b):\n",
    "        return True\n",
    "    else:\n",
    "        return False\n",
    "\n",
    "c=\"rami\"\n",
    "d=\"mari\"\n",
    "print(anagramChecker(c,d))\n"
   ]
  },
  {
   "cell_type": "code",
   "execution_count": 4,
   "id": "af937436",
   "metadata": {},
   "outputs": [
    {
     "name": "stdout",
     "output_type": "stream",
     "text": [
      "count of vowels and consonents (2, 3)\n"
     ]
    }
   ],
   "source": [
    "def countVandC(s):\n",
    "    v=\"aeiou\"\n",
    "    c=0\n",
    "    for i in s:\n",
    "        if i in v:\n",
    "            c+=1\n",
    "    d=len(s)-c\n",
    "    return c,d\n",
    "\n",
    "a=\"hello\"\n",
    "e=countVandC(a)\n",
    "print(\"count of vowels and consonents\",e)"
   ]
  },
  {
   "cell_type": "code",
   "execution_count": 27,
   "id": "94085580",
   "metadata": {},
   "outputs": [
    {
     "name": "stdout",
     "output_type": "stream",
     "text": [
      "amazing\n"
     ]
    }
   ],
   "source": [
    "def longWordFinder(a):\n",
    "    s=a.split()\n",
    "    l=s[0]\n",
    "    for i in s:\n",
    "        if len(i)>len(l):\n",
    "            l=i\n",
    "    return l\n",
    "\n",
    "a=\"Python is amazing\"\n",
    "print(longWordFinder(a))\n",
    "\n",
    "\n"
   ]
  },
  {
   "cell_type": "code",
   "execution_count": 35,
   "id": "f6945b78",
   "metadata": {},
   "outputs": [
    {
     "name": "stdout",
     "output_type": "stream",
     "text": [
      "qMe!9j\n"
     ]
    }
   ],
   "source": [
    "import random\n",
    "import string\n",
    "def password(l):\n",
    "    c=string.ascii_letters+string.digits+string.punctuation\n",
    "    p=''\n",
    "    for i in range(l):\n",
    "        p+=random.choice(c)\n",
    "    return p\n",
    "\n",
    "print(password(6))\n"
   ]
  },
  {
   "cell_type": "code",
   "execution_count": 34,
   "id": "d3efbeda",
   "metadata": {},
   "outputs": [
    {
     "name": "stdout",
     "output_type": "stream",
     "text": [
      "5.0\n"
     ]
    }
   ],
   "source": [
    "import math\n",
    "def sqrtt(n):\n",
    "    s=math.sqrt(n)\n",
    "    return s\n",
    "def fact(n):\n",
    "    if n==1:\n",
    "        return 1\n",
    "    else:\n",
    "        return n*fact(n-1)\n",
    "    \n",
    "def sinn(n):\n",
    "    s=math.sin(n)\n",
    "    return s\n",
    "def coss(n):\n",
    "    s=math.cos(n)\n",
    "    return s\n",
    "\n",
    "print(sqrtt(25))\n",
    "    "
   ]
  },
  {
   "cell_type": "code",
   "execution_count": 40,
   "id": "db1f3d35",
   "metadata": {},
   "outputs": [
    {
     "name": "stdout",
     "output_type": "stream",
     "text": [
      "Counter({'cat': 2, 'dog': 1})\n"
     ]
    }
   ],
   "source": [
    "from collections import Counter\n",
    "\n",
    "def wcounter(s):\n",
    "    w=s.split()\n",
    "    return Counter(w)\n",
    "    \n",
    "s=\"cat dog cat\"\n",
    "print(wcounter(s))\n"
   ]
  },
  {
   "cell_type": "code",
   "execution_count": 50,
   "id": "f48cff45",
   "metadata": {},
   "outputs": [
    {
     "name": "stdout",
     "output_type": "stream",
     "text": [
      "Weather: Sunny, Temp: 41°C\n"
     ]
    }
   ],
   "source": [
    "import random\n",
    "def weatherSim():\n",
    "    weather = [\"Sunny\", \"Cloudy\", \"Rainy\", \"Stormy\"]\n",
    "    temp = random.randint(10, 50)  \n",
    "    w= random.choice(weather)\n",
    "    return f\"Weather: {w}, Temp: {temp}°C\"\n",
    "\n",
    "print(weatherSim())"
   ]
  },
  {
   "cell_type": "code",
   "execution_count": 55,
   "id": "547c7144",
   "metadata": {},
   "outputs": [
    {
     "name": "stdout",
     "output_type": "stream",
     "text": [
      "5\n",
      "4\n",
      "3\n",
      "2\n",
      "1\n",
      "Time's up!\n"
     ]
    }
   ],
   "source": [
    "def countdown(n):\n",
    "    while(n>0):\n",
    "        print(n)\n",
    "        n-=1\n",
    "        \n",
    "    if(n==0):\n",
    "        return \"Time's up!\"\n",
    "    \n",
    "print(countdown(5))"
   ]
  },
  {
   "cell_type": "code",
   "execution_count": 11,
   "id": "2085af90",
   "metadata": {},
   "outputs": [
    {
     "name": "stdout",
     "output_type": "stream",
     "text": [
      "Balance:  120\n"
     ]
    }
   ],
   "source": [
    "class BankAccount:\n",
    "    def __init__(self, balance, owner=None):\n",
    "        self.balance = balance\n",
    "        self.owner = owner\n",
    "    \n",
    "    def deposit(self, amount):\n",
    "        self.balance += amount\n",
    "    \n",
    "    def withdraw(self, amount):\n",
    "        if amount <= self.balance:\n",
    "            self.balance -= amount\n",
    "        else:\n",
    "            print(\"Insufficient balance\")\n",
    "    \n",
    "    def get_balance(self):\n",
    "        return self.balance\n",
    "\n",
    "acc = BankAccount(100)\n",
    "acc.deposit(50)\n",
    "acc.withdraw(30)\n",
    "print(\"Balance: \",acc.get_balance())"
   ]
  },
  {
   "cell_type": "code",
   "execution_count": 13,
   "id": "d51513fc",
   "metadata": {},
   "outputs": [
    {
     "name": "stdout",
     "output_type": "stream",
     "text": [
      "85.0\n",
      "95\n"
     ]
    }
   ],
   "source": [
    "class Student:\n",
    "    def __init__(self, name, marks):\n",
    "        self.name = name\n",
    "        self.marks = marks\n",
    "    \n",
    "    def get_average(self):\n",
    "        return sum(self.marks) / len(self.marks)\n",
    "    \n",
    "    def add_mark(self, mark):\n",
    "        self.marks.append(mark)\n",
    "    \n",
    "    def get_highest(self):\n",
    "        return max(self.marks)\n",
    "    \n",
    "    def get_lowest(self):\n",
    "        return min(self.marks)\n",
    "    \n",
    "s = Student(\"Shiva\", [90, 80, 85])\n",
    "print(s.get_average())  \n",
    "s.add_mark(95)\n",
    "print(s.get_highest())"
   ]
  },
  {
   "cell_type": "code",
   "execution_count": 15,
   "id": "d8ad85be",
   "metadata": {},
   "outputs": [
    {
     "name": "stdout",
     "output_type": "stream",
     "text": [
      "10000.0\n"
     ]
    }
   ],
   "source": [
    "class Employee:\n",
    "    def __init__(self, name, salary, role):\n",
    "        self.name = name\n",
    "        self.salary = salary\n",
    "        self.role = role\n",
    "    \n",
    "    def bonus(self):\n",
    "        if self.role == \"Manager\":\n",
    "            return self.salary * 0.20\n",
    "        elif self.role == \"Developer\":\n",
    "            return self.salary * 0.10\n",
    "        elif self.role == \"Intern\":\n",
    "            return self.salary * 0.05\n",
    "        else:\n",
    "            return 0\n",
    "\n",
    "class Manager(Employee):\n",
    "    def __init__(self, name, salary):\n",
    "        super().__init__(name, salary, \"Manager\")\n",
    "\n",
    "m = Manager(\"shiva\", 50000)\n",
    "print(m.bonus())"
   ]
  },
  {
   "cell_type": "code",
   "execution_count": 17,
   "id": "48adb3f4",
   "metadata": {},
   "outputs": [
    {
     "name": "stdout",
     "output_type": "stream",
     "text": [
      "153.94\n",
      "20\n"
     ]
    }
   ],
   "source": [
    "import math\n",
    "\n",
    "class Shape:\n",
    "    def __init__(self, name):\n",
    "        self.name = name\n",
    "    \n",
    "    def area(self):\n",
    "        pass\n",
    "\n",
    "class Circle(Shape):\n",
    "    def __init__(self, radius):\n",
    "        super().__init__(\"Circle\")\n",
    "        self.radius = radius\n",
    "    \n",
    "    def area(self):\n",
    "        return round(math.pi * self.radius ** 2, 2)\n",
    "\n",
    "class Rectangle(Shape):\n",
    "    def __init__(self, width, height):\n",
    "        super().__init__(\"Rectangle\")\n",
    "        self.width = width\n",
    "        self.height = height\n",
    "    \n",
    "    def area(self):\n",
    "        return self.width * self.height\n",
    "\n",
    "\n",
    "c = Circle(7)\n",
    "print(c.area()) \n",
    "r = Rectangle(4, 5)\n",
    "print(r.area())  "
   ]
  },
  {
   "cell_type": "code",
   "execution_count": 24,
   "id": "f2c531bb",
   "metadata": {},
   "outputs": [
    {
     "name": "stdout",
     "output_type": "stream",
     "text": [
      "Total =  2000\n"
     ]
    }
   ],
   "source": [
    "class Order:\n",
    "    def __init__(self):\n",
    "        self.items = {}\n",
    "    \n",
    "    def add(self, item, price):\n",
    "        self.items[item] = price\n",
    "    \n",
    "    def remove(self, item):\n",
    "        if item in self.items:\n",
    "            del self.items[item]\n",
    "    \n",
    "    def calculate_total(self):\n",
    "        return sum(self.items.values())\n",
    "    \n",
    "    def show_items(self):\n",
    "        return self.items\n",
    "\n",
    "order = Order()\n",
    "order.add(\"Shirt\", 500)\n",
    "order.add(\"Shoes\", 1500)\n",
    "print(\"Total = \",order.calculate_total())\n"
   ]
  },
  {
   "cell_type": "code",
   "execution_count": 4,
   "id": "0e3058c0",
   "metadata": {},
   "outputs": [
    {
     "name": "stdout",
     "output_type": "stream",
     "text": [
      "[0, 1, 1, 2, 3, 5, 8, 13]\n"
     ]
    }
   ],
   "source": [
    "def fibonacci(n):\n",
    "    fib = []\n",
    "    a, b = 0, 1\n",
    "    for _ in range(n):\n",
    "        fib.append(a)\n",
    "        a, b = b, a + b\n",
    "    return fib\n",
    "\n",
    "print(fibonacci(8))"
   ]
  },
  {
   "cell_type": "code",
   "execution_count": 5,
   "id": "e3b2083e",
   "metadata": {},
   "outputs": [
    {
     "name": "stdout",
     "output_type": "stream",
     "text": [
      "120\n"
     ]
    }
   ],
   "source": [
    "def factorial(n):\n",
    "    if n==0 or n==1:\n",
    "        return 1\n",
    "    else:\n",
    "        return n*factorial(n-1)\n",
    "    \n",
    "print(factorial(5))\n",
    "    "
   ]
  },
  {
   "cell_type": "code",
   "execution_count": 8,
   "id": "eef48811",
   "metadata": {},
   "outputs": [
    {
     "name": "stdout",
     "output_type": "stream",
     "text": [
      "Grade: A\n"
     ]
    }
   ],
   "source": [
    "def calcGrade(marks):\n",
    "    avg = sum(marks) / len(marks)\n",
    "    if avg >= 90:\n",
    "        grade = 'A+'\n",
    "    elif avg >= 80:\n",
    "        grade = 'A'\n",
    "    elif avg >= 70:\n",
    "        grade = 'B'\n",
    "    elif avg >= 60:\n",
    "        grade = 'C'\n",
    "    else:\n",
    "        grade = 'D'\n",
    "    return grade\n",
    "\n",
    "l=[68,84,92,88]\n",
    "print(\"Grade:\",calcGrade(l))\n"
   ]
  },
  {
   "cell_type": "code",
   "execution_count": 17,
   "id": "78238a4f",
   "metadata": {},
   "outputs": [
    {
     "name": "stdout",
     "output_type": "stream",
     "text": [
      "8\n"
     ]
    }
   ],
   "source": [
    "def slargest(n):\n",
    "    s=list(set(n))\n",
    "    s.sort(reverse=True)\n",
    "    if len(s)>1:\n",
    "        return s[1]\n",
    "    else:\n",
    "        None\n",
    "\n",
    "n=[2,8,4,5,9]\n",
    "print(slargest(n))\n"
   ]
  },
  {
   "cell_type": "code",
   "execution_count": 20,
   "id": "f4d2d7f7",
   "metadata": {},
   "outputs": [
    {
     "name": "stdout",
     "output_type": "stream",
     "text": [
      "Text files: 2\n",
      "Python files: 3\n"
     ]
    }
   ],
   "source": [
    "import os\n",
    "\n",
    "def count_files(flist):\n",
    "    tc=0\n",
    "    pc=0\n",
    "    for x in flist:\n",
    "        if x.endswith('.txt'):\n",
    "            tc+=1\n",
    "    for x in flist:\n",
    "        if x.endswith('.py'):\n",
    "            pc+=1\n",
    "    \n",
    "    print(f\"Text files: {tc}\")\n",
    "    print(f\"Python files: {pc}\")\n",
    "\n",
    "count_files([\"f1.txt\", \"f2.py\", \"f3.py\", \"f4.txt\", \"f5.py\"])\n"
   ]
  },
  {
   "cell_type": "code",
   "execution_count": null,
   "id": "6fad7928",
   "metadata": {},
   "outputs": [
    {
     "name": "stdout",
     "output_type": "stream",
     "text": [
      "Mean = 87.86\n",
      "Median = 90\n",
      "Variance = 73.81\n"
     ]
    }
   ],
   "source": [
    "import statistics\n",
    "def analyzescores(scores):\n",
    "    mean = round(statistics.mean(scores), 2)\n",
    "    median = statistics.median(scores)\n",
    "    variance = round(statistics.variance(scores), 2)\n",
    "    print(f\"Mean = {mean}\")\n",
    "    print(f\"Median = {median}\")\n",
    "    print(f\"Variance = {variance}\")\n",
    "\n",
    "analyzescores([75, 80, 90, 100, 85, 90, 95])\n",
    "\n"
   ]
  },
  {
   "cell_type": "code",
   "execution_count": 29,
   "id": "be55e9a7",
   "metadata": {},
   "outputs": [
    {
     "name": "stdout",
     "output_type": "stream",
     "text": [
      "roots are: 2.0 and 1.0 \n"
     ]
    }
   ],
   "source": [
    "import math\n",
    "def quadratic_roots(a, b, c):\n",
    "    d = (b**2)-(4*a*c)\n",
    "    if d < 0:\n",
    "        return \"No real roots\"\n",
    "    \n",
    "    root1 = (-b + math.sqrt(d))/(2*a)\n",
    "    root2 = (-b - math.sqrt(d))/(2*a)\n",
    "    print(f\"roots are: {root1} and {root2} \")\n",
    "\n",
    "quadratic_roots(1, -3, 2)\n"
   ]
  },
  {
   "cell_type": "code",
   "execution_count": 34,
   "id": "0b3da57f",
   "metadata": {},
   "outputs": [
    {
     "name": "stdout",
     "output_type": "stream",
     "text": [
      "You chose Rock, Computer chose Rock\n",
      "it's a draw!\n"
     ]
    }
   ],
   "source": [
    "import random\n",
    "\n",
    "def rps(userchoice):\n",
    "    options = ['Rock', 'Paper', 'Scissors']\n",
    "    computer = random.choice(options)\n",
    "    print(f\"You chose {userchoice}, Computer chose {computer}\")\n",
    "    if userchoice == computer:\n",
    "        print(\"it's a draw!\")\n",
    "    elif (userchoice == 'Rock' and computer == 'Scissors'):\n",
    "         print(\"you win!\")\n",
    "    elif(userchoice == 'Paper' and computer == 'Rock'):\n",
    "         print(\"you win!\")\n",
    "    elif(userchoice == 'Scissors' and computer == 'Paper'):\n",
    "        print(\"you win!\")\n",
    "    else:\n",
    "        print(\"you lose!\")\n",
    "\n",
    "\n",
    "rps(\"Rock\")\n",
    "\n",
    "\n"
   ]
  },
  {
   "cell_type": "code",
   "execution_count": 38,
   "id": "18efbf6d",
   "metadata": {},
   "outputs": [
    {
     "name": "stdout",
     "output_type": "stream",
     "text": [
      "You borrowed Python 101\n",
      "You returned Python 101\n",
      "Available books: {'Python 101': 3, 'Data Science': 2}\n"
     ]
    }
   ],
   "source": [
    "class Library:\n",
    "    def __init__(self, books):\n",
    "        self.books = books\n",
    "\n",
    "    def borrow(self, title):\n",
    "        if self.books.get(title, 0) > 0:\n",
    "            self.books[title] -= 1\n",
    "            return f\"You borrowed {title}\"\n",
    "        else:\n",
    "            return \"Book not available\"\n",
    "\n",
    "    def return_book(self, title):\n",
    "        if title in self.books:\n",
    "            self.books[title] += 1\n",
    "            return f\"You returned {title}\"\n",
    "        else:\n",
    "            self.books[title] = 1\n",
    "            return f\"{title} added and returned\"\n",
    "\n",
    "    def show_books(self):\n",
    "        print(f\"Available books: {self.books}\")\n",
    "\n",
    "d={\"Python 101\": 3, \"Data Science\": 2}\n",
    "lib = Library(d)\n",
    "print(lib.borrow(\"Python 101\"))\n",
    "print(lib.return_book(\"Python 101\"))\n",
    "lib.show_books()\n",
    "\n"
   ]
  },
  {
   "cell_type": "code",
   "execution_count": 45,
   "id": "e1bfb49f",
   "metadata": {},
   "outputs": [
    {
     "name": "stdout",
     "output_type": "stream",
     "text": [
      "Access Granted\n",
      "Deposited amount:200\n",
      "Withdraw amount: 100\n",
      "Balance: 600\n"
     ]
    }
   ],
   "source": [
    "class ATM:\n",
    "    def __init__(self, pin, balance):\n",
    "        self.pin = pin\n",
    "        self.balance = balance\n",
    "        self.auth = False\n",
    "\n",
    "    def login(self, pin):\n",
    "        if pin == self.pin:\n",
    "            self.auth = True\n",
    "            return \"Access Granted\"\n",
    "        else:\n",
    "            return \"Access Denied\"\n",
    "        \n",
    "    def deposit(self, amount):\n",
    "        if self.auth:\n",
    "            self.balance += amount\n",
    "            return f\"Deposited amount:{amount}\"\n",
    "        else:\n",
    "            return \"Please login\"\n",
    "\n",
    "    def withdraw(self, amount):\n",
    "        if self.auth:\n",
    "            if amount <= self.balance:\n",
    "                self.balance -= amount\n",
    "                return f\"Withdraw amount: {amount}\"\n",
    "            else:\n",
    "                return \"Insufficient Funds\"\n",
    "        else:\n",
    "            return \"Please login\"\n",
    "    def check_balance(self):\n",
    "        if self.auth:\n",
    "            return f\"Balance: {self.balance}\"\n",
    "        else:\n",
    "            return \"Please login\"\n",
    "        \n",
    "atm = ATM(1234, 500)\n",
    "print(atm.login(1234))\n",
    "print(atm.deposit(200))\n",
    "print(atm.withdraw(100))\n",
    "print(atm.check_balance())"
   ]
  },
  {
   "cell_type": "code",
   "execution_count": 52,
   "id": "2adbaa10",
   "metadata": {},
   "outputs": [
    {
     "name": "stdout",
     "output_type": "stream",
     "text": [
      "Dr. Smith is teaching Python\n",
      "Alice enrolled in Python\n",
      "Dr. Smith assigned: Project1\n",
      "Alice submitted: Project1\n"
     ]
    }
   ],
   "source": [
    "class Professor:\n",
    "    def __init__(self, name, subject):\n",
    "        self.name = name\n",
    "        self.subject = subject\n",
    "\n",
    "    def teach(self, course):\n",
    "        return f\"{self.name} is teaching {course}\"\n",
    "\n",
    "    def give_assignment(self, task):\n",
    "        return f\"{self.name} assigned: {task}\"\n",
    "\n",
    "class Student:\n",
    "    def __init__(self, name):\n",
    "        self.name = name\n",
    "        self.courses = []\n",
    "        self.assignments = []\n",
    "\n",
    "    def enroll(self, course):\n",
    "        self.courses.append(course)\n",
    "        return f\"{self.name} enrolled in {course}\"\n",
    "\n",
    "    def submit_assignment(self, task):\n",
    "        self.assignments.append(task)\n",
    "        return f\"{self.name} submitted: {task}\"\n",
    "\n",
    "prof = Professor(\"Dr. Smith\", \"Computer Science\")\n",
    "stud = Student(\"Alice\")\n",
    "print(prof.teach(\"Python\"))\n",
    "print(stud.enroll(\"Python\"))\n",
    "print(prof.give_assignment(\"Project1\"))\n",
    "print(stud.submit_assignment(\"Project1\"))\n",
    "\n"
   ]
  },
  {
   "cell_type": "code",
   "execution_count": 62,
   "id": "d339ea9c",
   "metadata": {},
   "outputs": [
    {
     "name": "stdout",
     "output_type": "stream",
     "text": [
      "Booked 2 tickets for Avatar\n",
      "Cancelled 1 ticket for Avatar\n",
      "Movies: {'Avatar': 9, 'Batman': 5}\n"
     ]
    }
   ],
   "source": [
    "class Cinema:\n",
    "    def __init__(self, movies):\n",
    "        self.movies = movies\n",
    "\n",
    "    def book(self, movie, seats):\n",
    "        if self.movies.get(movie, 0) >= seats:\n",
    "            self.movies[movie] -= seats\n",
    "            return f\"Booked {seats} tickets for {movie}\"\n",
    "\n",
    "    def cancel(self, movie, seats):\n",
    "        if movie in self.movies:\n",
    "            self.movies[movie] += seats\n",
    "            return f\"Cancelled {seats} ticket for {movie}\"\n",
    "\n",
    "    def showmovies(self):\n",
    "        print(f\"Movies: {self.movies}\")\n",
    "\n",
    "cinema = Cinema({\"Avatar\": 10, \"Batman\": 5})\n",
    "print(cinema.book(\"Avatar\", 2))\n",
    "print(cinema.cancel(\"Avatar\", 1))\n",
    "cinema.showmovies()\n"
   ]
  },
  {
   "cell_type": "code",
   "execution_count": 68,
   "id": "401b58ca",
   "metadata": {},
   "outputs": [
    {
     "name": "stdout",
     "output_type": "stream",
     "text": [
      "Burger added\n",
      "Pizza added\n",
      "Pizza price updated to 250\n",
      "Burger removed\n",
      "Menu: {'Pizza': 250}\n"
     ]
    }
   ],
   "source": [
    "class Menu:\n",
    "    def __init__(self):\n",
    "        self.items = {}\n",
    "\n",
    "    def add_item(self, name, price):\n",
    "        self.items[name] = price\n",
    "        return f\"{name} added\"\n",
    "\n",
    "    def remove_item(self, name):\n",
    "        if name in self.items:\n",
    "            del self.items[name]\n",
    "            return f\"{name} removed\"\n",
    "        else:\n",
    "            return f\"{name} not found\"\n",
    "\n",
    "    def update_price(self, name, new_price):\n",
    "        if name in self.items:\n",
    "            self.items[name] = new_price\n",
    "            return f\"{name} price updated to {new_price}\"\n",
    "        else:\n",
    "            return f\"{name} not found\"\n",
    "\n",
    "    def show_menu(self):\n",
    "        print(f\"Menu: {self.items}\")\n",
    "\n",
    "menu = Menu()\n",
    "print(menu.add_item(\"Burger\", 100))\n",
    "print(menu.add_item(\"Pizza\", 200))\n",
    "print(menu.update_price(\"Pizza\", 250))\n",
    "print(menu.remove_item(\"Burger\"))\n",
    "menu.show_menu()\n"
   ]
  }
 ],
 "metadata": {
  "kernelspec": {
   "display_name": "Python 3",
   "language": "python",
   "name": "python3"
  },
  "language_info": {
   "codemirror_mode": {
    "name": "ipython",
    "version": 3
   },
   "file_extension": ".py",
   "mimetype": "text/x-python",
   "name": "python",
   "nbconvert_exporter": "python",
   "pygments_lexer": "ipython3",
   "version": "3.11.0"
  }
 },
 "nbformat": 4,
 "nbformat_minor": 5
}
