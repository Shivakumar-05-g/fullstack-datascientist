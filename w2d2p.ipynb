{
 "cells": [
  {
   "cell_type": "code",
   "execution_count": 8,
   "id": "0130bcb6",
   "metadata": {},
   "outputs": [
    {
     "name": "stdout",
     "output_type": "stream",
     "text": [
      "286\n"
     ]
    }
   ],
   "source": [
    "s=open(\"q.txt\",\"r\")\n",
    "c=0\n",
    "for i in s:\n",
    "    w=i.split()\n",
    "    c+=len(w)\n",
    "print(c)"
   ]
  },
  {
   "cell_type": "code",
   "execution_count": null,
   "id": "3619b344",
   "metadata": {},
   "outputs": [
    {
     "name": "stdout",
     "output_type": "stream",
     "text": [
      "Weak password\n"
     ]
    }
   ],
   "source": [
    "def password(p):\n",
    "    if len(p)<8:\n",
    "        return False\n",
    "    is_upper=False\n",
    "    is_lower=False\n",
    "    is_digit=False\n",
    "    is_special=False\n",
    "    for i in p:\n",
    "        if i.isupper():\n",
    "            is_upper=True\n",
    "        elif i.islower():\n",
    "            is_lower=True\n",
    "        elif i.isdigit():\n",
    "            is_digit=True\n",
    "        elif i.isalnum():\n",
    "            is_special=True\n",
    "    return is_upper and is_lower and is_digit and is_special\n",
    "\n",
    "p=\"Dge7@g4\"\n",
    "if(password(p)):\n",
    "    print(\"Strong Password\")\n",
    "else:\n",
    "    print(\"Weak password\")"
   ]
  },
  {
   "cell_type": "code",
   "execution_count": null,
   "id": "1642adf8",
   "metadata": {},
   "outputs": [
    {
     "name": "stdout",
     "output_type": "stream",
     "text": [
      "Addition is:\n",
      "9\n"
     ]
    }
   ],
   "source": [
    "a=int(input(\"Enter a number:\"))\n",
    "b=int(input(\"Enter a number:\"))\n",
    "c=input(\"Enter your choice:\")\n",
    "if c=='+':\n",
    "    res=a+b\n",
    "    print(\"Addition is:\")\n",
    "elif c=='-':\n",
    "    res=a-b\n",
    "    print(\"Subtraction is:\")\n",
    "elif c=='*':\n",
    "    res=a*b\n",
    "    print(\"Product is:\")\n",
    "elif c=='/':\n",
    "    try:\n",
    "        res=a//b\n",
    "        print(\"Division is:\")\n",
    "    except:\n",
    "        print(\"cannot divide ny zero\")\n",
    "\n",
    "print(res)"
   ]
  },
  {
   "cell_type": "code",
   "execution_count": 54,
   "id": "676ed777",
   "metadata": {},
   "outputs": [
    {
     "name": "stdout",
     "output_type": "stream",
     "text": [
      "shiva\n"
     ]
    }
   ],
   "source": [
    "from collections import Counter\n",
    "del dict\n",
    "a=input().split(\" \")\n",
    "b = dict(Counter(a))\n",
    "for key, values in b.items():\n",
    "    if values>1:\n",
    "        print(key)\n",
    "\n",
    "\n"
   ]
  },
  {
   "cell_type": "code",
   "execution_count": 14,
   "id": "51ec3649",
   "metadata": {},
   "outputs": [
    {
     "name": "stdout",
     "output_type": "stream",
     "text": [
      "Farenheit is: 98.6\n"
     ]
    }
   ],
   "source": [
    "c=int(input(\"Enter in celcius:\"))\n",
    "f=(c*9/5)+32\n",
    "print(\"Farenheit is:\",f)\n",
    "\n"
   ]
  },
  {
   "cell_type": "code",
   "execution_count": 20,
   "id": "23fedd93",
   "metadata": {},
   "outputs": [
    {
     "name": "stdout",
     "output_type": "stream",
     "text": [
      "45\n"
     ]
    }
   ],
   "source": [
    "l=[2,3,45,6,8]\n",
    "l.sort()\n",
    "print(l[-1])"
   ]
  },
  {
   "cell_type": "code",
   "execution_count": 24,
   "id": "cc712e3f",
   "metadata": {},
   "outputs": [
    {
     "name": "stdout",
     "output_type": "stream",
     "text": [
      "Simple interest: 40.0\n"
     ]
    }
   ],
   "source": [
    "p=int(input())\n",
    "r=int(input())\n",
    "t=int(input())\n",
    "res=(p*r*t)/100\n",
    "print(\"Simple interest:\",res)"
   ]
  },
  {
   "cell_type": "code",
   "execution_count": 60,
   "id": "1a9e3c45",
   "metadata": {},
   "outputs": [
    {
     "name": "stdout",
     "output_type": "stream",
     "text": [
      "c\n",
      "k\n"
     ]
    }
   ],
   "source": [
    "d={\"s\":88, \"c\":45, \"k\":54, \"t\":96}\n",
    "for key, value in d.items():\n",
    "    if value<75:\n",
    "        print(key)"
   ]
  },
  {
   "cell_type": "code",
   "execution_count": 30,
   "id": "3051a756",
   "metadata": {},
   "outputs": [
    {
     "name": "stdout",
     "output_type": "stream",
     "text": [
      "10\n"
     ]
    }
   ],
   "source": [
    "n=1234\n",
    "s=0\n",
    "while n>0:\n",
    "    d=n%10\n",
    "    s+=d\n",
    "    n//=10\n",
    "print(s)\n"
   ]
  },
  {
   "cell_type": "code",
   "execution_count": 38,
   "id": "571326f3",
   "metadata": {},
   "outputs": [
    {
     "name": "stdout",
     "output_type": "stream",
     "text": [
      "True\n"
     ]
    }
   ],
   "source": [
    "n=5\n",
    "for i in range(2, int(n**0.5)+1):\n",
    "    if n%i==0:\n",
    "        print(\"False\")\n",
    "    else:\n",
    "        print(\"True\")\n",
    "        "
   ]
  },
  {
   "cell_type": "code",
   "execution_count": 39,
   "id": "83f0417b",
   "metadata": {},
   "outputs": [
    {
     "name": "stdout",
     "output_type": "stream",
     "text": [
      "Max: 54\n",
      "Min: 3\n"
     ]
    }
   ],
   "source": [
    "l=[3,8,54,12,45,8]\n",
    "print(\"Max:\",max(l))\n",
    "print(\"Min:\",min(l))"
   ]
  },
  {
   "cell_type": "code",
   "execution_count": 43,
   "id": "41936c0e",
   "metadata": {},
   "outputs": [
    {
     "name": "stdout",
     "output_type": "stream",
     "text": [
      "Total Bill: 105\n"
     ]
    }
   ],
   "source": [
    "d={\"soap\":50, \"pen\":10, \"book\":40, \"pencil\":5}\n",
    "\n",
    "res=sum(d.values())\n",
    "print(\"Total Bill:\",res)"
   ]
  },
  {
   "cell_type": "code",
   "execution_count": 47,
   "id": "095699a5",
   "metadata": {},
   "outputs": [
    {
     "name": "stdout",
     "output_type": "stream",
     "text": [
      "20\n"
     ]
    }
   ],
   "source": [
    "a,b,c=map(int,input().split())\n",
    "if a>b and a>c:\n",
    "    print(a)\n",
    "elif(b>c):\n",
    "    print(b)\n",
    "else:\n",
    "    print(c)\n"
   ]
  },
  {
   "cell_type": "code",
   "execution_count": 79,
   "id": "698ef522",
   "metadata": {},
   "outputs": [
    {
     "name": "stdout",
     "output_type": "stream",
     "text": [
      "{'s': 1, 'h': 1, 'i': 1, 'v': 1, 'a': 2, ' ': 1, 'k': 1, 'u': 1, 'm': 1, 'r': 1}\n"
     ]
    }
   ],
   "source": [
    "from collections import Counter\n",
    "s=input(\"Enter String:\")\n",
    "b=dict(Counter(s))\n",
    "print(b)\n",
    "\n"
   ]
  },
  {
   "cell_type": "code",
   "execution_count": 59,
   "id": "b9d49169",
   "metadata": {},
   "outputs": [
    {
     "name": "stdout",
     "output_type": "stream",
     "text": [
      "bill amount: 1300\n"
     ]
    }
   ],
   "source": [
    "u=int(input(\"Enter units: \"))\n",
    "b=0\n",
    "\n",
    "if(u>200):\n",
    "    b+= (u-200) * 10\n",
    "    b+= 100 * 7\n",
    "    b+= 100 * 5\n",
    "elif(u>100):\n",
    "    b+=(u-100) * 7\n",
    "    b+= 100 * 5\n",
    "else:\n",
    "    b+=u * 5\n",
    "\n",
    "print(\"bill amount:\",b)"
   ]
  },
  {
   "cell_type": "code",
   "execution_count": 62,
   "id": "85a50e59",
   "metadata": {},
   "outputs": [
    {
     "name": "stdout",
     "output_type": "stream",
     "text": [
      "['ad', 'as', 'rt', 'sg']\n"
     ]
    }
   ],
   "source": [
    "l=[\"sg\", \"ad\",\"as\", \"rt\"]\n",
    "s=sorted(l)\n",
    "print(s)\n"
   ]
  },
  {
   "cell_type": "code",
   "execution_count": 64,
   "id": "38a1c635",
   "metadata": {},
   "outputs": [
    {
     "name": "stdout",
     "output_type": "stream",
     "text": [
      "4321\n"
     ]
    }
   ],
   "source": [
    "s=input()\n",
    "print(s[::-1])"
   ]
  },
  {
   "cell_type": "code",
   "execution_count": 67,
   "id": "036f5116",
   "metadata": {},
   "outputs": [
    {
     "name": "stdout",
     "output_type": "stream",
     "text": [
      "positive numbers: 4\n",
      "negitive numbers: 2\n",
      "zero numbers: 1\n"
     ]
    }
   ],
   "source": [
    "l=[1,2,3,0,-1,3,-2]\n",
    "cp=0\n",
    "cn=0\n",
    "co=0\n",
    "for i in l:\n",
    "    if i>0:\n",
    "        cp+=1\n",
    "    elif i==0:\n",
    "        co+=1\n",
    "    else:\n",
    "        cn+=1\n",
    "print(\"positive numbers:\",cp)\n",
    "print(\"negitive numbers:\",cn)\n",
    "print(\"zero numbers:\",co)"
   ]
  },
  {
   "cell_type": "code",
   "execution_count": 77,
   "id": "a3051bb3",
   "metadata": {},
   "outputs": [
    {
     "name": "stdout",
     "output_type": "stream",
     "text": [
      "you have 3 attempts\n",
      "invalid pin\n",
      "valid pin\n"
     ]
    }
   ],
   "source": [
    "cpin=1234\n",
    "n=3\n",
    "print(\"you have 3 attempts\")\n",
    "\n",
    "while(n>0):\n",
    "    b=int(input(\"Enter pin\"))\n",
    "    if b==1234:\n",
    "        print(\"valid pin\")\n",
    "        break\n",
    "    else:\n",
    "        print(\"invalid pin\")\n",
    "        n-=1\n",
    "    "
   ]
  },
  {
   "cell_type": "code",
   "execution_count": 81,
   "id": "fde3b96e",
   "metadata": {},
   "outputs": [
    {
     "name": "stdout",
     "output_type": "stream",
     "text": [
      "can't do division\n"
     ]
    }
   ],
   "source": [
    "a=int(input())\n",
    "b=int(input())\n",
    "try:\n",
    "    c=a//b\n",
    "    print(\"Division is:\",c)\n",
    "except:\n",
    "    print(\"can't do division\")\n",
    "    "
   ]
  },
  {
   "cell_type": "code",
   "execution_count": 87,
   "id": "4698cc69",
   "metadata": {},
   "outputs": [
    {
     "name": "stdout",
     "output_type": "stream",
     "text": [
      "Incorrect value\n"
     ]
    }
   ],
   "source": [
    "try:\n",
    "    a=int(input())\n",
    "    b=int(input())\n",
    "    try:\n",
    "        c=a//b\n",
    "        print(c)\n",
    "    except ZeroDivisionError:\n",
    "        print(\"can't divide by zero\")\n",
    "except ValueError:\n",
    "    print(\"Incorrect value\")\n",
    "        "
   ]
  },
  {
   "cell_type": "code",
   "execution_count": 99,
   "id": "37b3deca",
   "metadata": {},
   "outputs": [
    {
     "name": "stdout",
     "output_type": "stream",
     "text": [
      "Error: Withdrawal amount exceeds.\n"
     ]
    }
   ],
   "source": [
    "class InsufficientFundsError(Exception):\n",
    "    pass\n",
    "\n",
    "class BankAccount:\n",
    "    def __init__(self, balance):\n",
    "        self.balance = balance\n",
    "\n",
    "    def withdraw(self, amount):\n",
    "        if amount > self.balance:\n",
    "            raise InsufficientFundsError(\"Withdrawal amount exceeds.\")\n",
    "        self.balance -= amount\n",
    "        return self.balance\n",
    "\n",
    "try:\n",
    "    account = BankAccount(500)\n",
    "    account.withdraw(600)\n",
    "except InsufficientFundsError as e:\n",
    "    print(f\"Error: {e}\")"
   ]
  },
  {
   "cell_type": "code",
   "execution_count": null,
   "id": "94aeb1b4",
   "metadata": {},
   "outputs": [
    {
     "name": "stdout",
     "output_type": "stream",
     "text": [
      "Total price: ₹450\n",
      "Bill processing finished\n"
     ]
    }
   ],
   "source": [
    "def calculate_bill(units):\n",
    "    if units < 0:\n",
    "        raise ValueError(\"Units cannot be negative.\")\n",
    "\n",
    "    total = 0\n",
    "    if units <= 100:\n",
    "        total = units * 5\n",
    "    elif units <= 200:\n",
    "        total = (100 * 5) + ((units - 100) * 7)\n",
    "    else:\n",
    "        total = (100 * 5) + (100 * 7) + ((units - 200) * 10)\n",
    "\n",
    "    return total\n",
    "\n",
    "try:\n",
    "    units = int(input(\"Enter number of units: \"))\n",
    "    price = calculate_bill(units)\n",
    "    print(f\"Total price: ₹{price}\")\n",
    "except ValueError as e:\n",
    "    print(f\"Invalid input: {e}\")\n",
    "finally:\n",
    "    print(\"Bill processing finished\")"
   ]
  }
 ],
 "metadata": {
  "kernelspec": {
   "display_name": "Python 3",
   "language": "python",
   "name": "python3"
  },
  "language_info": {
   "codemirror_mode": {
    "name": "ipython",
    "version": 3
   },
   "file_extension": ".py",
   "mimetype": "text/x-python",
   "name": "python",
   "nbconvert_exporter": "python",
   "pygments_lexer": "ipython3",
   "version": "3.11.0"
  }
 },
 "nbformat": 4,
 "nbformat_minor": 5
}
