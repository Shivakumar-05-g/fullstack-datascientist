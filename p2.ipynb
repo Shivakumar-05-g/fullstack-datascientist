{
 "cells": [
  {
   "cell_type": "code",
   "execution_count": 51,
   "id": "ed72be72",
   "metadata": {},
   "outputs": [
    {
     "name": "stdout",
     "output_type": "stream",
     "text": [
      "not prime\n"
     ]
    }
   ],
   "source": [
    "n=int(input(\"Enter a number:\"))#32\n",
    "c=0\n",
    "for i in range(1,n+1):\n",
    "        if(n%i==0):\n",
    "            c+=1\n",
    "if(c==2):\n",
    "    print(\"prime\")\n",
    "else:\n",
    "    print(\"not prime\")\n"
   ]
  },
  {
   "cell_type": "code",
   "execution_count": 17,
   "id": "ccebf718",
   "metadata": {},
   "outputs": [
    {
     "name": "stdout",
     "output_type": "stream",
     "text": [
      "second largest number: 34\n"
     ]
    }
   ],
   "source": [
    "l=[23,4,63,34,8,6]\n",
    "l.sort()\n",
    "print(\"second largest number:\",l[-2])"
   ]
  },
  {
   "cell_type": "code",
   "execution_count": 22,
   "id": "71c35c72",
   "metadata": {},
   "outputs": [
    {
     "name": "stdout",
     "output_type": "stream",
     "text": [
      "600\n"
     ]
    }
   ],
   "source": [
    "summ=0\n",
    "for i in range(1,50):\n",
    "    if(i%2==0):\n",
    "        summ+=i\n",
    "print(summ)"
   ]
  },
  {
   "cell_type": "code",
   "execution_count": 25,
   "id": "de2cb85d",
   "metadata": {},
   "outputs": [
    {
     "name": "stdout",
     "output_type": "stream",
     "text": [
      "2 8\n"
     ]
    }
   ],
   "source": [
    "s=\"Hello World\"\n",
    "uc=0\n",
    "lc=0\n",
    "for i in s:\n",
    "    if(i.isupper()):\n",
    "        uc+=1\n",
    "    if(i.islower()):\n",
    "        lc+=1\n",
    "print(uc,lc)\n"
   ]
  },
  {
   "cell_type": "code",
   "execution_count": null,
   "id": "3320e70c",
   "metadata": {},
   "outputs": [
    {
     "name": "stdout",
     "output_type": "stream",
     "text": [
      "0 1 1 2 3 5 8 13 21 "
     ]
    }
   ],
   "source": [
    "n=int(input(\"Enter a number:\"))#10\n",
    "a=0\n",
    "b=1\n",
    "print(a,end=\" \")\n",
    "if(n==1):\n",
    "    print(b,end=\" \")\n",
    "\n",
    "for i in range(3,n+1):\n",
    "    c=a+b\n",
    "    b=a\n",
    "    a=c\n",
    "    print(c,end=\" \")"
   ]
  },
  {
   "cell_type": "code",
   "execution_count": 8,
   "id": "e4e7783d",
   "metadata": {},
   "outputs": [
    {
     "name": "stdout",
     "output_type": "stream",
     "text": [
      "anagram\n"
     ]
    }
   ],
   "source": [
    "s=\"mug\"\n",
    "d=\"gum\"\n",
    "if(sorted(s)==sorted(d)):\n",
    "    print(\"anagram\")\n",
    "else:\n",
    "    print(\"not anagram\")"
   ]
  },
  {
   "cell_type": "code",
   "execution_count": 55,
   "id": "140184d3",
   "metadata": {},
   "outputs": [
    {
     "name": "stdout",
     "output_type": "stream",
     "text": [
      "perfect number\n"
     ]
    }
   ],
   "source": [
    "n=int(input(\"Enter a number:\"))#28\n",
    "summ=0\n",
    "for i in range(1,n):\n",
    "    if(n%i==0):\n",
    "        summ+=i\n",
    "if(summ==n):\n",
    "    print(\"perfect number\")\n",
    "else:\n",
    "    print(\"not perfect\")"
   ]
  },
  {
   "cell_type": "code",
   "execution_count": 22,
   "id": "97931298",
   "metadata": {},
   "outputs": [
    {
     "name": "stdout",
     "output_type": "stream",
     "text": [
      "86.6\n",
      "Grade is:\n",
      "B\n"
     ]
    }
   ],
   "source": [
    "l=[80,90,89,86,88]\n",
    "\n",
    "per=sum(l)/5\n",
    "print(per)\n",
    "print(\"Grade is:\")\n",
    "if(per>=90):\n",
    "    print(\"A\")\n",
    "elif(per>=75):\n",
    "    print(\"B\")\n",
    "elif(per>=50):\n",
    "    print(\"C\")\n",
    "elif(per<50):\n",
    "    print(\"Fail\")\n",
    "\n"
   ]
  },
  {
   "cell_type": "code",
   "execution_count": 31,
   "id": "ba1640e7",
   "metadata": {},
   "outputs": [
    {
     "name": "stdout",
     "output_type": "stream",
     "text": [
      "2 3 5 7 11 13 17 19 23 29 31 37 41 43 47 53 59 61 67 71 73 79 83 89 97 "
     ]
    }
   ],
   "source": [
    "for i in range(2,101):\n",
    "    prime=True\n",
    "    for j in range(2,int(i**0.5)+1):\n",
    "        if(i%j==0):\n",
    "            prime=False\n",
    "            break\n",
    "    if(prime):\n",
    "        print(i,end=\" \")"
   ]
  },
  {
   "cell_type": "code",
   "execution_count": null,
   "id": "98eac640",
   "metadata": {},
   "outputs": [
    {
     "name": "stdout",
     "output_type": "stream",
     "text": [
      "3\n"
     ]
    }
   ],
   "source": [
    "s=\"hello world cvr\"\n",
    "c=1\n",
    "for i in s:\n",
    "    if(i==' '):\n",
    "        c+=1\n",
    "print(c)"
   ]
  },
  {
   "cell_type": "code",
   "execution_count": 36,
   "id": "e43ce365",
   "metadata": {},
   "outputs": [
    {
     "name": "stdout",
     "output_type": "stream",
     "text": [
      "final ticket price: 80.0\n"
     ]
    }
   ],
   "source": [
    "t=int(input(\"Enter ticket price:\"))#100\n",
    "a=int(input(\"Enter your age:\"))#13\n",
    "s=input(\"are you a student:\")#yes\n",
    "if(s=='yes'):\n",
    "    r=t-(t*0.2)\n",
    "    print(\"final ticket price:\",r)\n",
    "elif(s=='no'):\n",
    "    if(a>=60):\n",
    "        r=t-(t*0.1)\n",
    "        print(\"final ticket price:\",r)\n",
    "    else:\n",
    "        print(\"final ticket price:\",t)"
   ]
  },
  {
   "cell_type": "code",
   "execution_count": null,
   "id": "d44f51b8",
   "metadata": {},
   "outputs": [
    {
     "name": "stdout",
     "output_type": "stream",
     "text": [
      "amount payable: 450\n"
     ]
    }
   ],
   "source": [
    "n=int(input(\"enter total cart value:\"))#400\n",
    "if(n<=500):\n",
    "    r=n+50\n",
    "    print(\"amount payable:\",r)\n",
    "else:\n",
    "    print(\"amount payable:\",n)\n",
    "    "
   ]
  },
  {
   "cell_type": "code",
   "execution_count": 56,
   "id": "bd2279dc",
   "metadata": {},
   "outputs": [
    {
     "name": "stdout",
     "output_type": "stream",
     "text": [
      "Grade: C\n"
     ]
    }
   ],
   "source": [
    "m= int(input(\"Enter marks: \"))#60\n",
    "if(90<=m and  m<=100):\n",
    "    grade = 'A'\n",
    "elif (75<=m and m< 90):\n",
    "    grade = 'B'\n",
    "elif(50<=m and m<75):\n",
    "    grade = 'C'\n",
    "elif(m<50):\n",
    "    grade = 'Fail'\n",
    "\n",
    "print(\"Grade:\", grade)\n"
   ]
  },
  {
   "cell_type": "code",
   "execution_count": null,
   "id": "402509a6",
   "metadata": {},
   "outputs": [
    {
     "name": "stdout",
     "output_type": "stream",
     "text": [
      "Tip to be added: 80.0\n"
     ]
    }
   ],
   "source": [
    "bill = int(input(\"Enter bill amount: \"))#800\n",
    "if bill < 500:\n",
    "    tip = 0.05\n",
    "elif bill <= 1000:\n",
    "    tip = 0.10\n",
    "else:\n",
    "    tip = 0.15\n",
    "totaltip = bill * tip\n",
    "print(\"Tip to be added:\",totaltip)\n"
   ]
  },
  {
   "cell_type": "code",
   "execution_count": null,
   "id": "b2186d66",
   "metadata": {},
   "outputs": [
    {
     "name": "stdout",
     "output_type": "stream",
     "text": [
      "Total gym payment: 8700\n"
     ]
    }
   ],
   "source": [
    "m=int(input(\"months for gym membership:\"))#20\n",
    "\n",
    "if(m>=6 and m<12):\n",
    "    div=m//6\n",
    "    rem=m%6\n",
    "    res=2700*div+(rem*500)\n",
    "elif(m>=12):\n",
    "    div=m//12\n",
    "    rem=m%12\n",
    "    if(rem>=6):\n",
    "        rem1=m%6\n",
    "        res=5000*div+2700+(rem1*500)\n",
    "    else:\n",
    "        res=5000*div+(rem*500)\n",
    "else:\n",
    "    res=500*m\n",
    "print(\"Total gym payment:\",res)"
   ]
  },
  {
   "cell_type": "code",
   "execution_count": null,
   "id": "325f7646",
   "metadata": {},
   "outputs": [
    {
     "name": "stdout",
     "output_type": "stream",
     "text": [
      "Not eligible for exam\n"
     ]
    }
   ],
   "source": [
    "tclasses=int(input(\"Total classes:\"))#100\n",
    "attended=int(input(\"Classes attended:\"))#65\n",
    "attendance=(attended / tclasses)*100\n",
    "\n",
    "if(attendance>=75):\n",
    "    print(\"Eligible for exam\")\n",
    "else:\n",
    "    print(\"Not eligible for exam\")"
   ]
  },
  {
   "cell_type": "code",
   "execution_count": null,
   "id": "ba477eb5",
   "metadata": {},
   "outputs": [
    {
     "name": "stdout",
     "output_type": "stream",
     "text": [
      "Transaction successful\n"
     ]
    }
   ],
   "source": [
    "a= int(input(\"Enter withdrawal amount: \"))#500\n",
    "if(a%100==0):\n",
    "    print(\"Transaction successful\")\n",
    "else:\n",
    "    print(\"Transaction failed\")"
   ]
  },
  {
   "cell_type": "code",
   "execution_count": null,
   "id": "c2122500",
   "metadata": {},
   "outputs": [
    {
     "name": "stdout",
     "output_type": "stream",
     "text": [
      "Nice weather, go out!\n"
     ]
    }
   ],
   "source": [
    "t=int(input(\"Enter temperature:\"))#32\n",
    "if(t>35):\n",
    "    print(\"Too hot, stay indoors!\")\n",
    "elif(20<=t and t<=35):\n",
    "    print(\"Nice weather, go out!\")\n",
    "else:\n",
    "    print(\"It’s cold, wear warm clothes!\")"
   ]
  },
  {
   "cell_type": "code",
   "execution_count": null,
   "id": "80c72a1d",
   "metadata": {},
   "outputs": [
    {
     "name": "stdout",
     "output_type": "stream",
     "text": [
      "total fine: 50\n"
     ]
    }
   ],
   "source": [
    "d=int(input(\"Enter number of late days: \"))#8\n",
    "if(1<=d and d<=5):\n",
    "    fine = 10\n",
    "elif(6<=d and d<=10):\n",
    "    fine = 50\n",
    "elif(d>10):\n",
    "    fine = 100\n",
    "else:\n",
    "    fine = 0\n",
    "print(\"total fine:\",fine)"
   ]
  },
  {
   "cell_type": "code",
   "execution_count": null,
   "id": "d15b4818",
   "metadata": {},
   "outputs": [
    {
     "name": "stdout",
     "output_type": "stream",
     "text": [
      "bill amount: 4200\n"
     ]
    }
   ],
   "source": [
    "u=int(input(\"Enter units consumed: \"))#500\n",
    "b=0\n",
    "\n",
    "if(u>200):\n",
    "    b+= (u-200) * 10\n",
    "    b+= 100 * 7\n",
    "    b+= 100 * 5\n",
    "elif(u>100):\n",
    "    b+=(u-100) * 7\n",
    "    b+= 100 * 5\n",
    "else:\n",
    "    b+=u * 5\n",
    "\n",
    "print(\"bill amount:\",b)"
   ]
  }
 ],
 "metadata": {
  "kernelspec": {
   "display_name": "Python 3",
   "language": "python",
   "name": "python3"
  },
  "language_info": {
   "codemirror_mode": {
    "name": "ipython",
    "version": 3
   },
   "file_extension": ".py",
   "mimetype": "text/x-python",
   "name": "python",
   "nbconvert_exporter": "python",
   "pygments_lexer": "ipython3",
   "version": "3.11.0"
  }
 },
 "nbformat": 4,
 "nbformat_minor": 5
}
